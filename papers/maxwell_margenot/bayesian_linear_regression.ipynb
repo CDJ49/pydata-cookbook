{
 "cells": [
  {
   "cell_type": "markdown",
   "metadata": {},
   "source": [
    "# Bayesian Linear Regression"
   ]
  },
  {
   "cell_type": "code",
   "execution_count": null,
   "metadata": {
    "collapsed": true
   },
   "outputs": [],
   "source": [
    "import numpy as np\n",
    "import pandas as pd\n",
    "import matplotlib.pyplot as plt\n",
    "import seaborn as sns\n",
    "\n",
    "import pymc3 as pm\n",
    "import theano.tensor as tt"
   ]
  },
  {
   "cell_type": "markdown",
   "metadata": {},
   "source": [
    "## Linear Regression\n",
    "\n",
    "Linear regression is a standard quantitative tool in every statistician's toolbox. It provides a simple, easy-to-understand framework for expressing a linear relationship between dependent and independent variables and can be readily applied in many situations. A linear regression takes the form of:\n",
    "\n",
    "$$ Y = X\\beta + \\epsilon $$\n",
    "\n",
    "Where $Y$ is the dependent variable, $X$ is our independent variable, $\\beta$ are the coefficients for each feature in $X$, and $\\epsilon$ is our error, assumed to be normally-distributed.\n",
    "\n",
    "There are several ways to fit the coefficients. We typically use either Ordinary Least Squares (OLS) or Maximum Likelihood Estimation (MLE).\n",
    "\n",
    "## Probabilistic Regression\n",
    "\n",
    "Our purpose here is to define a Bayesian, probabilistic linear regression method for easy use in Python. To this end, we will be using PyMC3, but it is good to review the basic theory of what we are dealing with. To reformulate this basic linear regression with a Bayesian methodology, we say that:\n",
    "\n",
    "$$ Y \\sim \\mathcal{N}(X\\beta, \\sigma^2) $$\n",
    "\n",
    "With Bayesian inference, a key component is that we define the pieces of our model as probability distributions. This makes our dependent variable a probability distribution as well. In this case, we are assuming that $Y$ is normally-distributed. The mean of this distribution is our linear value $X\\beta$, while the variance is $\\sigma^2$ (the variance of our error from the original model)."
   ]
  },
  {
   "cell_type": "code",
   "execution_count": null,
   "metadata": {
    "collapsed": true
   },
   "outputs": [],
   "source": []
  }
 ],
 "metadata": {
  "anaconda-cloud": {},
  "kernelspec": {
   "display_name": "Python [conda env:bayes]",
   "language": "python",
   "name": "conda-env-bayes-py"
  },
  "language_info": {
   "codemirror_mode": {
    "name": "ipython",
    "version": 3
   },
   "file_extension": ".py",
   "mimetype": "text/x-python",
   "name": "python",
   "nbconvert_exporter": "python",
   "pygments_lexer": "ipython3",
   "version": "3.5.2"
  }
 },
 "nbformat": 4,
 "nbformat_minor": 1
}
