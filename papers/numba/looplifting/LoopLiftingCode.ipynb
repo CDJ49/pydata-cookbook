{
 "cells": [
  {
   "cell_type": "code",
   "execution_count": 1,
   "metadata": {
    "collapsed": false
   },
   "outputs": [],
   "source": [
    "import numpy\n",
    "import numba"
   ]
  },
  {
   "cell_type": "code",
   "execution_count": 2,
   "metadata": {
    "collapsed": false
   },
   "outputs": [],
   "source": [
    "import collections\n",
    "import pprint\n",
    "\n",
    "\n",
    "@numba.jit\n",
    "def assign_bin(val):\n",
    "    limit = 32\n",
    "    while limit < 2**12:\n",
    "        if val < limit:\n",
    "            return limit\n",
    "        limit *= 2\n",
    "    return limit\n",
    "    \n",
    "\n",
    "@numba.jit\n",
    "def binning(ary, debug=False):\n",
    "    bins = numpy.zeros(ary.size, dtype=numpy.int32)\n",
    "    for i, v in enumerate(ary):\n",
    "        bins[i] = assign_bin(v)\n",
    "    if debug:\n",
    "        ctr = collections.defaultdict(int)\n",
    "        for k in bins:\n",
    "            ctr[k] += 1\n",
    "        pprint.pprint(ctr)\n",
    "    return bins\n",
    "            "
   ]
  },
  {
   "cell_type": "code",
   "execution_count": 3,
   "metadata": {
    "collapsed": false
   },
   "outputs": [
    {
     "name": "stdout",
     "output_type": "stream",
     "text": [
      "10000\n"
     ]
    }
   ],
   "source": [
    "ary = numpy.random.randint(0, 2**14, 10000)\n",
    "bins = binning(ary)\n",
    "print(len(bins))"
   ]
  },
  {
   "cell_type": "code",
   "execution_count": 4,
   "metadata": {
    "collapsed": false
   },
   "outputs": [
    {
     "name": "stdout",
     "output_type": "stream",
     "text": [
      "defaultdict(<class 'int'>,\n",
      "            {32: 21,\n",
      "             64: 23,\n",
      "             128: 43,\n",
      "             256: 70,\n",
      "             512: 138,\n",
      "             1024: 309,\n",
      "             2048: 631,\n",
      "             4096: 8765})\n"
     ]
    },
    {
     "data": {
      "text/plain": [
       "array([4096, 4096, 4096, ..., 4096, 4096, 4096], dtype=int32)"
      ]
     },
     "execution_count": 4,
     "metadata": {},
     "output_type": "execute_result"
    }
   ],
   "source": [
    "binning(ary, debug=True)"
   ]
  },
  {
   "cell_type": "code",
   "execution_count": 5,
   "metadata": {
    "collapsed": true
   },
   "outputs": [],
   "source": [
    "binning_no_lift = numba.jit(forceobj=True, looplift=False)(binning.py_func)"
   ]
  },
  {
   "cell_type": "code",
   "execution_count": 6,
   "metadata": {
    "collapsed": false
   },
   "outputs": [
    {
     "name": "stdout",
     "output_type": "stream",
     "text": [
      "10000 loops, best of 3: 36.6 µs per loop\n",
      "100 loops, best of 3: 6.04 ms per loop\n",
      "The slowest run took 29.10 times longer than the fastest. This could mean that an intermediate result is being cached.\n",
      "100 loops, best of 3: 5.85 ms per loop\n"
     ]
    }
   ],
   "source": [
    "%timeit binning(ary)\n",
    "%timeit binning.py_func(ary)\n",
    "%timeit binning_no_lift(ary)"
   ]
  }
 ],
 "metadata": {
  "anaconda-cloud": {},
  "kernelspec": {
   "display_name": "Python 3",
   "language": "python",
   "name": "python3"
  },
  "language_info": {
   "codemirror_mode": {
    "name": "ipython",
    "version": 3
   },
   "file_extension": ".py",
   "mimetype": "text/x-python",
   "name": "python",
   "nbconvert_exporter": "python",
   "pygments_lexer": "ipython3",
   "version": "3.5.2"
  }
 },
 "nbformat": 4,
 "nbformat_minor": 0
}
