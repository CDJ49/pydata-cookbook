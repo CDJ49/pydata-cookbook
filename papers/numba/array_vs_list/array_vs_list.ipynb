{
 "cells": [
  {
   "cell_type": "code",
   "execution_count": 1,
   "metadata": {
    "collapsed": true
   },
   "outputs": [],
   "source": [
    "import numpy\n",
    "import numba"
   ]
  },
  {
   "cell_type": "code",
   "execution_count": 2,
   "metadata": {
    "collapsed": false
   },
   "outputs": [
    {
     "name": "stdout",
     "output_type": "stream",
     "text": [
      "[1.0, 2.0, 3.0]\n"
     ]
    }
   ],
   "source": [
    "@numba.jit(nopython=True)\n",
    "def make_list():\n",
    "    return [1, 2, 3.0]\n",
    "\n",
    "print(make_list())"
   ]
  },
  {
   "cell_type": "code",
   "execution_count": 3,
   "metadata": {
    "collapsed": true
   },
   "outputs": [],
   "source": [
    "@numba.jit(nopython=True)\n",
    "def return_first(a_list):\n",
    "    return a_list[0]\n",
    "\n",
    "def return_first_py(a_list):\n",
    "    return a_list[0]"
   ]
  },
  {
   "cell_type": "code",
   "execution_count": 4,
   "metadata": {
    "collapsed": false
   },
   "outputs": [
    {
     "name": "stdout",
     "output_type": "stream",
     "text": [
      "The slowest run took 4125.77 times longer than the fastest. This could mean that an intermediate result is being cached.\n",
      "10000 loops, best of 3: 18.8 µs per loop\n",
      "The slowest run took 6.85 times longer than the fastest. This could mean that an intermediate result is being cached.\n",
      "10000000 loops, best of 3: 158 ns per loop\n"
     ]
    },
    {
     "data": {
      "text/plain": [
       "119.12829532275568"
      ]
     },
     "execution_count": 4,
     "metadata": {},
     "output_type": "execute_result"
    }
   ],
   "source": [
    "long_list = [0] * 1000\n",
    "nb_result = %timeit -o return_first(long_list)\n",
    "py_result = %timeit -o return_first_py(long_list)\n",
    "\n",
    "nb_result.best / py_result.best"
   ]
  },
  {
   "cell_type": "code",
   "execution_count": 5,
   "metadata": {
    "collapsed": false
   },
   "outputs": [
    {
     "name": "stdout",
     "output_type": "stream",
     "text": [
      "The slowest run took 81451.22 times longer than the fastest. This could mean that an intermediate result is being cached.\n",
      "1000000 loops, best of 3: 357 ns per loop\n",
      "The slowest run took 135.03 times longer than the fastest. This could mean that an intermediate result is being cached.\n",
      "1000000 loops, best of 3: 223 ns per loop\n"
     ]
    },
    {
     "data": {
      "text/plain": [
       "1.6050316349021772"
      ]
     },
     "execution_count": 5,
     "metadata": {},
     "output_type": "execute_result"
    }
   ],
   "source": [
    "long_array = numpy.array(long_list)\n",
    "nb_result = %timeit -o return_first(long_array)\n",
    "py_result = %timeit -o return_first_py(long_array)\n",
    "\n",
    "nb_result.best / py_result.best"
   ]
  },
  {
   "cell_type": "code",
   "execution_count": 6,
   "metadata": {
    "collapsed": true
   },
   "outputs": [],
   "source": [
    "@numba.jit(nopython=True)\n",
    "def filter_bad_try1(values, lower, upper):\n",
    "    good = []\n",
    "    for v in values:\n",
    "        if lower < v < upper:\n",
    "            good.append(v)\n",
    "    return numpy.array(good)"
   ]
  },
  {
   "cell_type": "code",
   "execution_count": 7,
   "metadata": {
    "collapsed": false
   },
   "outputs": [],
   "source": [
    "a = numpy.random.uniform(-2000, 2000, int(1e7))"
   ]
  },
  {
   "cell_type": "code",
   "execution_count": 8,
   "metadata": {
    "collapsed": false
   },
   "outputs": [
    {
     "name": "stdout",
     "output_type": "stream",
     "text": [
      "1 loop, best of 3: 123 ms per loop\n"
     ]
    }
   ],
   "source": [
    "%timeit filter_bad_try1(a, -1000, 1000)"
   ]
  },
  {
   "cell_type": "code",
   "execution_count": 9,
   "metadata": {
    "collapsed": true
   },
   "outputs": [],
   "source": [
    "@numba.jit(nopython=True)\n",
    "def filter_bad_try2(values, lower, upper):\n",
    "    good = numpy.empty_like(values)\n",
    "    next_index = 0\n",
    "    for v in values:\n",
    "        if lower < v < upper:\n",
    "            good[next_index] = v\n",
    "            next_index += 1\n",
    "    return good[:next_index]"
   ]
  },
  {
   "cell_type": "code",
   "execution_count": 10,
   "metadata": {
    "collapsed": false
   },
   "outputs": [
    {
     "name": "stdout",
     "output_type": "stream",
     "text": [
      "10 loops, best of 3: 60.4 ms per loop\n"
     ]
    }
   ],
   "source": [
    "%timeit filter_bad_try2(a, -1000, 1000)"
   ]
  },
  {
   "cell_type": "code",
   "execution_count": 11,
   "metadata": {
    "collapsed": false
   },
   "outputs": [
    {
     "data": {
      "text/plain": [
       "array([ 997.9944078 ,  687.29342808, -105.7498187 , ...,  905.98062605,\n",
       "         -1.43046327,  -55.9636759 ])"
      ]
     },
     "execution_count": 11,
     "metadata": {},
     "output_type": "execute_result"
    }
   ],
   "source": [
    "filter_bad_try2(a, -1000, 1000)"
   ]
  },
  {
   "cell_type": "code",
   "execution_count": 12,
   "metadata": {
    "collapsed": true
   },
   "outputs": [],
   "source": [
    "@numba.jit(nopython=True)\n",
    "def filter_bad_try3(values, lower, upper):\n",
    "    good = numpy.empty_like(values)\n",
    "    next_index = 0\n",
    "    for v in values:\n",
    "        if lower < v < upper:\n",
    "            good[next_index] = v\n",
    "            next_index += 1\n",
    "    return good[:next_index].copy()"
   ]
  },
  {
   "cell_type": "code",
   "execution_count": 13,
   "metadata": {
    "collapsed": false
   },
   "outputs": [
    {
     "name": "stdout",
     "output_type": "stream",
     "text": [
      "10 loops, best of 3: 73.6 ms per loop\n"
     ]
    }
   ],
   "source": [
    "%timeit filter_bad_try3(a, -1000, 1000)"
   ]
  },
  {
   "cell_type": "code",
   "execution_count": 14,
   "metadata": {
    "collapsed": true
   },
   "outputs": [],
   "source": [
    "def filter_bad_try4(values, lower, upper):\n",
    "    return values[(lower < values) & (values < upper)]"
   ]
  },
  {
   "cell_type": "code",
   "execution_count": 15,
   "metadata": {
    "collapsed": false
   },
   "outputs": [
    {
     "name": "stdout",
     "output_type": "stream",
     "text": [
      "10 loops, best of 3: 95.9 ms per loop\n"
     ]
    }
   ],
   "source": [
    "%timeit filter_bad_try4(a, -1000, 1000)"
   ]
  },
  {
   "cell_type": "code",
   "execution_count": 16,
   "metadata": {
    "collapsed": true
   },
   "outputs": [],
   "source": [
    "@numba.jit(nopython=True)\n",
    "def filter_bad_try5(values, lower, upper):\n",
    "    return values[(lower < values) & (values < upper)]"
   ]
  },
  {
   "cell_type": "code",
   "execution_count": 17,
   "metadata": {
    "collapsed": false
   },
   "outputs": [
    {
     "name": "stdout",
     "output_type": "stream",
     "text": [
      "1 loop, best of 3: 59.7 ms per loop\n"
     ]
    }
   ],
   "source": [
    "%timeit filter_bad_try5(a, -1000, 1000)"
   ]
  },
  {
   "cell_type": "code",
   "execution_count": null,
   "metadata": {
    "collapsed": true
   },
   "outputs": [],
   "source": []
  }
 ],
 "metadata": {
  "anaconda-cloud": {},
  "kernelspec": {
   "display_name": "Python [conda env:numba_pydata]",
   "language": "python",
   "name": "conda-env-numba_pydata-py"
  },
  "language_info": {
   "codemirror_mode": {
    "name": "ipython",
    "version": 3
   },
   "file_extension": ".py",
   "mimetype": "text/x-python",
   "name": "python",
   "nbconvert_exporter": "python",
   "pygments_lexer": "ipython3",
   "version": "3.5.2"
  }
 },
 "nbformat": 4,
 "nbformat_minor": 0
}
