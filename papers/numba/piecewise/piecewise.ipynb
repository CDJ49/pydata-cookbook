{
 "cells": [
  {
   "cell_type": "code",
   "execution_count": 1,
   "metadata": {
    "collapsed": true
   },
   "outputs": [],
   "source": [
    "import numpy\n",
    "import numba"
   ]
  },
  {
   "cell_type": "code",
   "execution_count": 2,
   "metadata": {
    "collapsed": false
   },
   "outputs": [],
   "source": [
    "a = numpy.random.uniform(-2, 2, size=10000)"
   ]
  },
  {
   "cell_type": "code",
   "execution_count": 3,
   "metadata": {
    "collapsed": true
   },
   "outputs": [],
   "source": [
    "def np_manual_piecewise(x):\n",
    "    output = numpy.empty_like(x)\n",
    "    \n",
    "    selector = x < 0\n",
    "    output[selector] = x[selector]**2\n",
    "\n",
    "    selector = (0 <= x) & (x <= 1)\n",
    "    output[selector] = 0\n",
    "    \n",
    "    selector = x > 1\n",
    "    output[selector] = (x[selector] - 1)**2\n",
    "    \n",
    "    return output"
   ]
  },
  {
   "cell_type": "code",
   "execution_count": 4,
   "metadata": {
    "collapsed": false
   },
   "outputs": [
    {
     "name": "stdout",
     "output_type": "stream",
     "text": [
      "1000 loops, best of 3: 334 µs per loop\n"
     ]
    }
   ],
   "source": [
    "%timeit np_manual_piecewise(a)"
   ]
  },
  {
   "cell_type": "code",
   "execution_count": 5,
   "metadata": {
    "collapsed": true
   },
   "outputs": [],
   "source": [
    "def np_piecewise(x):\n",
    "    return numpy.piecewise(x,\n",
    "                          [x < 0, \n",
    "                           (0 <= x) & (x <= 1), \n",
    "                           x > 1],\n",
    "                          [lambda v: v**2,\n",
    "                           lambda v: 0, \n",
    "                           lambda v: (v - 1)**2])"
   ]
  },
  {
   "cell_type": "code",
   "execution_count": 6,
   "metadata": {
    "collapsed": false
   },
   "outputs": [
    {
     "name": "stdout",
     "output_type": "stream",
     "text": [
      "1000 loops, best of 3: 431 µs per loop\n"
     ]
    }
   ],
   "source": [
    "%timeit np_piecewise(a)"
   ]
  },
  {
   "cell_type": "code",
   "execution_count": 7,
   "metadata": {
    "collapsed": true
   },
   "outputs": [],
   "source": [
    "@numba.vectorize\n",
    "def nb_piecewise(x):\n",
    "    if x < 0:\n",
    "        return x**2\n",
    "    elif x <= 1:\n",
    "        return 0\n",
    "    else:\n",
    "        return (x - 1)**2"
   ]
  },
  {
   "cell_type": "code",
   "execution_count": 19,
   "metadata": {
    "collapsed": false
   },
   "outputs": [
    {
     "name": "stdout",
     "output_type": "stream",
     "text": [
      "The slowest run took 18.63 times longer than the fastest. This could mean that an intermediate result is being cached.\n",
      "100000 loops, best of 3: 14.2 µs per loop\n"
     ]
    }
   ],
   "source": [
    "%timeit nb_piecewise(a)"
   ]
  },
  {
   "cell_type": "code",
   "execution_count": 9,
   "metadata": {
    "collapsed": true
   },
   "outputs": [],
   "source": [
    "numpy.testing.assert_equal(nb_piecewise(a), np_piecewise(a))"
   ]
  },
  {
   "cell_type": "code",
   "execution_count": 10,
   "metadata": {
    "collapsed": false
   },
   "outputs": [],
   "source": [
    "numpy.testing.assert_almost_equal(nb_piecewise(a), np_manual_piecewise(a))"
   ]
  },
  {
   "cell_type": "code",
   "execution_count": 15,
   "metadata": {
    "collapsed": true
   },
   "outputs": [],
   "source": [
    "@numba.jit\n",
    "def nb_manual_piecewise(x):\n",
    "    output = numpy.empty_like(x)\n",
    "    \n",
    "    selector = x < 0\n",
    "    output[selector] = x[selector]**2\n",
    "\n",
    "    selector = (0 <= x) & (x <= 1)\n",
    "    output[selector] = 0\n",
    "    \n",
    "    selector = x > 1\n",
    "    output[selector] = (x[selector] - 1)**2\n",
    "    \n",
    "    return output"
   ]
  },
  {
   "cell_type": "code",
   "execution_count": 18,
   "metadata": {
    "collapsed": false
   },
   "outputs": [
    {
     "name": "stdout",
     "output_type": "stream",
     "text": [
      "10000 loops, best of 3: 178 µs per loop\n"
     ]
    }
   ],
   "source": [
    "%timeit nb_manual_piecewise(a)"
   ]
  },
  {
   "cell_type": "code",
   "execution_count": null,
   "metadata": {
    "collapsed": true
   },
   "outputs": [],
   "source": []
  }
 ],
 "metadata": {
  "anaconda-cloud": {},
  "kernelspec": {
   "display_name": "Python [conda env:numba_pydata]",
   "language": "python",
   "name": "conda-env-numba_pydata-py"
  },
  "language_info": {
   "codemirror_mode": {
    "name": "ipython",
    "version": 3
   },
   "file_extension": ".py",
   "mimetype": "text/x-python",
   "name": "python",
   "nbconvert_exporter": "python",
   "pygments_lexer": "ipython3",
   "version": "3.5.2"
  }
 },
 "nbformat": 4,
 "nbformat_minor": 0
}
