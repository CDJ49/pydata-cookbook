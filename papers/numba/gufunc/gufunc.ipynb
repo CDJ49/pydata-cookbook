{
 "cells": [
  {
   "cell_type": "code",
   "execution_count": 2,
   "metadata": {
    "collapsed": true
   },
   "outputs": [],
   "source": [
    "import numpy\n",
    "import numba"
   ]
  },
  {
   "cell_type": "code",
   "execution_count": 14,
   "metadata": {
    "collapsed": false
   },
   "outputs": [
    {
     "data": {
      "text/plain": [
       "array([  4.21986594e-06,   6.04823582e-06,   8.60534661e-06,\n",
       "         1.21539546e-05,   1.70402689e-05,   2.37161871e-05,\n",
       "         3.27659589e-05,   4.49376634e-05,   6.11797478e-05,\n",
       "         8.26826654e-05])"
      ]
     },
     "execution_count": 14,
     "metadata": {},
     "output_type": "execute_result"
    }
   ],
   "source": [
    "a = numpy.random.uniform(-2, 2, size=1000000).reshape(10000,100)\n",
    "weights = numpy.exp(-numpy.linspace(-3, 3, 100)**2)\n",
    "weights /= weights.sum()\n",
    "weights[:10]"
   ]
  },
  {
   "cell_type": "code",
   "execution_count": 21,
   "metadata": {
    "collapsed": true
   },
   "outputs": [],
   "source": [
    "def np_weighted_avg(x, weights):\n",
    "    return (x * weights).sum(axis=1)"
   ]
  },
  {
   "cell_type": "code",
   "execution_count": 39,
   "metadata": {
    "collapsed": false
   },
   "outputs": [
    {
     "name": "stdout",
     "output_type": "stream",
     "text": [
      "100 loops, best of 3: 4.03 ms per loop\n"
     ]
    }
   ],
   "source": [
    "np_time = %timeit -o np_weighted_avg(a, weights)"
   ]
  },
  {
   "cell_type": "code",
   "execution_count": 31,
   "metadata": {
    "collapsed": false
   },
   "outputs": [],
   "source": [
    "@numba.jit\n",
    "def np_compiled_weighted_avg(x, weights):\n",
    "    return (x * weights).sum(axis=1)"
   ]
  },
  {
   "cell_type": "code",
   "execution_count": 24,
   "metadata": {
    "collapsed": false
   },
   "outputs": [
    {
     "name": "stdout",
     "output_type": "stream",
     "text": [
      "The slowest run took 20.54 times longer than the fastest. This could mean that an intermediate result is being cached.\n",
      "100 loops, best of 3: 3.68 ms per loop\n"
     ]
    }
   ],
   "source": [
    "%timeit nb_weighted_avg(a, weights)"
   ]
  },
  {
   "cell_type": "code",
   "execution_count": 36,
   "metadata": {
    "collapsed": false
   },
   "outputs": [],
   "source": [
    "@numba.jit(nopython=True)\n",
    "def nb_weighted_avg_loops(x, weights):\n",
    "    result = numpy.empty(x.shape[0], x.dtype)\n",
    "    for i in range(x.shape[0]):\n",
    "\n",
    "        row_sum = 0.0\n",
    "        for v, w in zip(x[i], weights):\n",
    "            row_sum += v*w\n",
    "            \n",
    "        result[i] = row_sum\n",
    "        \n",
    "    return result"
   ]
  },
  {
   "cell_type": "code",
   "execution_count": 37,
   "metadata": {
    "collapsed": false
   },
   "outputs": [],
   "source": [
    "numpy.testing.assert_allclose(np_weighted_avg(a, weights), nb_weighted_avg_loops(a, weights))"
   ]
  },
  {
   "cell_type": "code",
   "execution_count": 40,
   "metadata": {
    "collapsed": false
   },
   "outputs": [
    {
     "name": "stdout",
     "output_type": "stream",
     "text": [
      "1000 loops, best of 3: 1.53 ms per loop\n"
     ]
    }
   ],
   "source": [
    "nb_loops_time = %timeit -o nb_weighted_avg_loops(a, weights)"
   ]
  },
  {
   "cell_type": "code",
   "execution_count": 41,
   "metadata": {
    "collapsed": false
   },
   "outputs": [
    {
     "data": {
      "text/plain": [
       "2.6322916063187707"
      ]
     },
     "execution_count": 41,
     "metadata": {},
     "output_type": "execute_result"
    }
   ],
   "source": [
    "np_time.best / nb_loops_time.best"
   ]
  },
  {
   "cell_type": "code",
   "execution_count": 57,
   "metadata": {
    "collapsed": false
   },
   "outputs": [],
   "source": [
    "@numba.guvectorize(['(float64[:], float64[:], float64[:])', '(float32[:], float32[:], float32[:])'],\n",
    "                   '(i),(i)->()')\n",
    "def gufunc_weighted_avg(row, weights, result):\n",
    "    row_sum = 0.0\n",
    "    for v, w in zip(row, weights):\n",
    "        row_sum += v*w\n",
    "    result[0] = row_sum"
   ]
  },
  {
   "cell_type": "code",
   "execution_count": 63,
   "metadata": {
    "collapsed": false
   },
   "outputs": [
    {
     "name": "stdout",
     "output_type": "stream",
     "text": [
      "The slowest run took 7.88 times longer than the fastest. This could mean that an intermediate result is being cached.\n",
      "1000 loops, best of 3: 985 µs per loop\n"
     ]
    }
   ],
   "source": [
    "gufunc_time = %timeit -o gufunc_weighted_avg(a, weights)"
   ]
  },
  {
   "cell_type": "code",
   "execution_count": 59,
   "metadata": {
    "collapsed": true
   },
   "outputs": [],
   "source": [
    "numpy.testing.assert_allclose(np_weighted_avg(a, weights), gufunc_weighted_avg(a, weights))"
   ]
  },
  {
   "cell_type": "code",
   "execution_count": 64,
   "metadata": {
    "collapsed": false
   },
   "outputs": [
    {
     "data": {
      "text/plain": [
       "4.088664738999888"
      ]
     },
     "execution_count": 64,
     "metadata": {},
     "output_type": "execute_result"
    }
   ],
   "source": [
    "np_time.best / gufunc_time.best"
   ]
  },
  {
   "cell_type": "code",
   "execution_count": null,
   "metadata": {
    "collapsed": true
   },
   "outputs": [],
   "source": []
  }
 ],
 "metadata": {
  "anaconda-cloud": {},
  "kernelspec": {
   "display_name": "Python [conda env:numba_pydata]",
   "language": "python",
   "name": "conda-env-numba_pydata-py"
  },
  "language_info": {
   "codemirror_mode": {
    "name": "ipython",
    "version": 3
   },
   "file_extension": ".py",
   "mimetype": "text/x-python",
   "name": "python",
   "nbconvert_exporter": "python",
   "pygments_lexer": "ipython3",
   "version": "3.5.2"
  }
 },
 "nbformat": 4,
 "nbformat_minor": 0
}
