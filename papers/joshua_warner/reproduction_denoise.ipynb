{
 "cells": [
  {
   "cell_type": "code",
   "execution_count": null,
   "metadata": {
    "collapsed": true
   },
   "outputs": [],
   "source": [
    "from __future__ import division, print_function\n",
    "%matplotlib inline\n",
    "%load_ext Cython"
   ]
  },
  {
   "cell_type": "markdown",
   "metadata": {},
   "source": [
    "# Denoise reproduction"
   ]
  },
  {
   "cell_type": "code",
   "execution_count": null,
   "metadata": {
    "collapsed": true
   },
   "outputs": [],
   "source": [
    "import numpy as np\n",
    "import matplotlib.pyplot as plt"
   ]
  },
  {
   "cell_type": "markdown",
   "metadata": {},
   "source": [
    "## Types of image noise"
   ]
  },
  {
   "cell_type": "code",
   "execution_count": null,
   "metadata": {
    "collapsed": false
   },
   "outputs": [],
   "source": [
    "noise_types = ['gaussian',\n",
    "               'poisson',\n",
    "               's&p',\n",
    "               'speckle']\n",
    "\n",
    "astro = img_as_float(data.astronaut())\n",
    "\n",
    "# Detail patch\n",
    "astro0 = astro[300:450, 100:320]\n",
    "\n",
    "fig, ax = plt.subplots(nrows=5, figsize=(3, 10))\n",
    "\n",
    "pretty_subplot(ax[0], astro0, 'original')\n",
    "\n",
    "gauss = random_noise(astro0, mode='gaussian', seed=42,\n",
    "                     var=0.15)\n",
    "poisson = random_noise(astro0, mode='poisson', seed=42)\n",
    "saltpepper = random_noise(astro0, mode='s&p', amount=0.2)\n",
    "speckle = random_noise(astro0, mode='speckle', var=0.15)\n",
    "\n",
    "pretty_subplot(ax[1], gauss, 'gaussian')\n",
    "pretty_subplot(ax[2], poisson, 'poisson')\n",
    "pretty_subplot(ax[3], saltpepper, 'salt & pepper')\n",
    "pretty_subplot(ax[4], speckle, 'speckle')\n",
    "\n",
    "fig.tight_layout()\n",
    "plt.show()\n",
    "fig.savefig('./noise_types.png', dpi=300, bbox_inches=0)"
   ]
  },
  {
   "cell_type": "code",
   "execution_count": null,
   "metadata": {
    "collapsed": true
   },
   "outputs": [],
   "source": [
    "random_noise?"
   ]
  },
  {
   "cell_type": "code",
   "execution_count": null,
   "metadata": {
    "collapsed": false
   },
   "outputs": [],
   "source": [
    "import numpy as np\n",
    "import matplotlib.pyplot as plt\n",
    "\n",
    "from skimage import data, img_as_float\n",
    "from skimage.restoration import (denoise_tv_chambolle, denoise_bilateral,\n",
    "                                 denoise_wavelet, estimate_sigma)\n",
    "from skimage.util import random_noise\n",
    "\n",
    "\n",
    "# astro = img_as_float(data.astronaut())\n",
    "# astro = astro[220:300, 220:320]\n",
    "astro=astro0\n",
    "\n",
    "sigma = 0.3\n",
    "noisy = random_noise(astro, 'speckle', var=sigma**2, seed=42)\n",
    "\n",
    "fig, ax = plt.subplots(nrows=4, ncols=2, figsize=(5, 7.3))\n",
    "\n",
    "def pretty_subplot(ax, image, title=None, ylabel=None):\n",
    "    ax.imshow(image)\n",
    "    ax.set_xticks([]) \n",
    "    ax.set_yticks([])\n",
    "    ax.spines['top'].set_visible(False)\n",
    "    ax.spines['right'].set_visible(False)\n",
    "    ax.spines['bottom'].set_visible(False)\n",
    "    ax.spines['left'].set_visible(False)\n",
    "    if title is not None:\n",
    "        ax.set_title(title)\n",
    "    if ylabel is not None:\n",
    "        ax.set_ylabel(ylabel)\n",
    "\n",
    "pretty_subplot(ax[0, 0], astro, 'original')\n",
    "pretty_subplot(ax[0, 1], noisy, 'noisy')\n",
    "\n",
    "pretty_subplot(ax[1, 0], \n",
    "               denoise_tv_chambolle(noisy, weight=0.05, \n",
    "                                    multichannel=True),\n",
    "               'weight: 0.05',\n",
    "               'TV-Chambolle')\n",
    "pretty_subplot(ax[1, 1], \n",
    "               denoise_tv_chambolle(noisy, weight=0.1, \n",
    "                                    multichannel=True),\n",
    "               'weight: 0.1')\n",
    "\n",
    "pretty_subplot(ax[2, 0],\n",
    "               denoise_bilateral(noisy, sigma_color=0.05, sigma_spatial=15),\n",
    "               r'$\\sigma_{color}$:0.05, $\\sigma_{spatial}$:25',\n",
    "               'Bilateral')\n",
    "pretty_subplot(ax[2, 1],\n",
    "               denoise_bilateral(noisy, sigma_color=0.1, sigma_spatial=20),\n",
    "               r'$\\sigma_{color}$:0.1, $\\sigma_{spatial}$:20')\n",
    "\n",
    "# Estimate sigma for wavelet\n",
    "sigma_est = estimate_sigma(noisy, multichannel=True, average_sigmas=True)\n",
    "pretty_subplot(ax[3, 0],\n",
    "               denoise_wavelet(noisy, sigma=sigma_est,\n",
    "                               multichannel=True),\n",
    "               r'$\\sigma$: estimated',\n",
    "               'Wavelet')\n",
    "pretty_subplot(ax[3, 1],\n",
    "               denoise_wavelet(noisy, sigma=1.4*sigma_est,\n",
    "                               multichannel=True),\n",
    "               r'$\\sigma$: 1.4*estimated')\n",
    "\n",
    "fig.tight_layout(h_pad=0.7, w_pad=0.3)\n",
    "\n",
    "plt.show()\n",
    "\n",
    "fig.savefig('./denoise.png', dpi=300, bbox_inches=0)"
   ]
  },
  {
   "cell_type": "code",
   "execution_count": null,
   "metadata": {
    "collapsed": true
   },
   "outputs": [],
   "source": []
  }
 ],
 "metadata": {
  "kernelspec": {
   "display_name": "Python 2",
   "language": "python",
   "name": "python2"
  },
  "language_info": {
   "codemirror_mode": {
    "name": "ipython",
    "version": 2
   },
   "file_extension": ".py",
   "mimetype": "text/x-python",
   "name": "python",
   "nbconvert_exporter": "python",
   "pygments_lexer": "ipython2",
   "version": "2.7.12"
  }
 },
 "nbformat": 4,
 "nbformat_minor": 0
}
