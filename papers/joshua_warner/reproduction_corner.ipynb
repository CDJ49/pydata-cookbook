{
 "cells": [
  {
   "cell_type": "code",
   "execution_count": null,
   "metadata": {
    "collapsed": true
   },
   "outputs": [],
   "source": [
    "from __future__ import division, print_function\n",
    "%matplotlib inline\n",
    "%load_ext Cython"
   ]
  },
  {
   "cell_type": "markdown",
   "metadata": {},
   "source": [
    "# Corner detection reproduction"
   ]
  },
  {
   "cell_type": "code",
   "execution_count": null,
   "metadata": {
    "collapsed": true
   },
   "outputs": [],
   "source": [
    "import numpy as np\n",
    "import matplotlib.pyplot as plt"
   ]
  },
  {
   "cell_type": "code",
   "execution_count": null,
   "metadata": {
    "collapsed": true
   },
   "outputs": [],
   "source": []
  },
  {
   "cell_type": "code",
   "execution_count": null,
   "metadata": {
    "collapsed": false
   },
   "outputs": [],
   "source": [
    "from skimage import data\n",
    "from skimage.transform import warp, AffineTransform\n",
    "\n",
    "affine = AffineTransform(\n",
    "    scale=(0.8, 1.1), rotation=1, shear=0.7, \n",
    "    translation=(220, 50))\n",
    "image = warp(data.checkerboard(), affine.inverse, \n",
    "             output_shape=(200, 310))"
   ]
  },
  {
   "cell_type": "code",
   "execution_count": null,
   "metadata": {
    "collapsed": false
   },
   "outputs": [],
   "source": [
    "fig, ax = plt.subplots()\n",
    "ax.imshow(image, cmap='gray', interpolation='none')\n",
    "ax.axis('off');"
   ]
  },
  {
   "cell_type": "code",
   "execution_count": null,
   "metadata": {
    "collapsed": true
   },
   "outputs": [],
   "source": [
    "from skimage.feature import (corner_harris,\n",
    "                             corner_subpix, \n",
    "                             corner_peaks)\n",
    "\n",
    "harris_coords = corner_peaks(corner_harris(image))\n",
    "harris_subpix = corner_subpix(image, harris_coords)"
   ]
  },
  {
   "cell_type": "code",
   "execution_count": null,
   "metadata": {
    "collapsed": false
   },
   "outputs": [],
   "source": [
    "fig, ax = plt.subplots(1, 2, figsize=(8, 4))\n",
    "ax[0].imshow(image, cmap='gray', interpolation='none')\n",
    "ax[0].set_title('Warped checkerboard', fontsize=20)\n",
    "ax[0].axis((0, 299, 199, 0))\n",
    "ax[0].axis('off')\n",
    "\n",
    "ax[1].imshow(image, cmap='gray', interpolation='none')\n",
    "ax[1].plot(harris_coords[:, 1], harris_coords[:, 0], '.b', markersize=10)\n",
    "ax[1].plot(harris_subpix[:, 1], harris_subpix[:, 0], '*r', markersize=10)\n",
    "ax[1].set_title('Sub-pixel corners', fontsize=20)\n",
    "ax[1].axis((0, 299, 199, 0))\n",
    "ax[1].axis('off')\n",
    "plt.show()\n",
    "\n",
    "fig.savefig('./harris_corners.png', dpi=300, bbox_inches=0)"
   ]
  },
  {
   "cell_type": "code",
   "execution_count": null,
   "metadata": {
    "collapsed": true
   },
   "outputs": [],
   "source": []
  }
 ],
 "metadata": {
  "kernelspec": {
   "display_name": "Python 2",
   "language": "python",
   "name": "python2"
  },
  "language_info": {
   "codemirror_mode": {
    "name": "ipython",
    "version": 2
   },
   "file_extension": ".py",
   "mimetype": "text/x-python",
   "name": "python",
   "nbconvert_exporter": "python",
   "pygments_lexer": "ipython2",
   "version": "2.7.12"
  }
 },
 "nbformat": 4,
 "nbformat_minor": 0
}
