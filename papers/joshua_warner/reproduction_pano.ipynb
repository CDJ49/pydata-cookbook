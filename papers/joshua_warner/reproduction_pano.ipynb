{
 "cells": [
  {
   "cell_type": "code",
   "execution_count": null,
   "metadata": {
    "collapsed": false
   },
   "outputs": [],
   "source": [
    "from __future__ import division, print_function\n",
    "%matplotlib inline\n",
    "%load_ext Cython"
   ]
  },
  {
   "cell_type": "markdown",
   "metadata": {},
   "source": [
    "# Reproduction notebook for Panorama stitching"
   ]
  },
  {
   "cell_type": "code",
   "execution_count": null,
   "metadata": {
    "collapsed": true
   },
   "outputs": [],
   "source": [
    "import numpy as np\n",
    "import matplotlib.pyplot as plt"
   ]
  },
  {
   "cell_type": "code",
   "execution_count": null,
   "metadata": {
    "collapsed": true
   },
   "outputs": [],
   "source": [
    "from skimage import io\n",
    "pano_images = io.ImageCollection(\n",
    "    './images/JDW_9*')"
   ]
  },
  {
   "cell_type": "code",
   "execution_count": null,
   "metadata": {
    "collapsed": true
   },
   "outputs": [],
   "source": [
    "def compare(*images, **kwargs):\n",
    "    \"\"\"\n",
    "    Utility function to display images side by side.\n",
    "    \n",
    "    Parameters\n",
    "    ----------\n",
    "    image0, image1, image2, ... : ndarrray\n",
    "        Images to display.\n",
    "    labels : list\n",
    "        Labels for the different images.\n",
    "    \"\"\"\n",
    "    if 'vertical' in kwargs:\n",
    "        vertical = kwargs.pop('vertical')\n",
    "    else:\n",
    "        vertical = False\n",
    "        \n",
    "    if vertical is not True:\n",
    "        f, axes = plt.subplots(1, len(images), **kwargs)\n",
    "    else:\n",
    "        f, axes = plt.subplots(len(images), 1, **kwargs)\n",
    "\n",
    "    axes = np.array(axes, ndmin=1)\n",
    "    \n",
    "    labels = kwargs.pop('labels', None)\n",
    "    if labels is None:\n",
    "        labels = [''] * len(images)\n",
    "    \n",
    "    for n, (image, label) in enumerate(zip(images, labels)):\n",
    "        axes[n].imshow(image, interpolation='nearest', cmap='gray')\n",
    "        axes[n].set_title(label)\n",
    "        axes[n].axis('off')\n",
    "    \n",
    "    f.subplots_adjust(left=0, right=1, top=1, bottom=0, hspace=0.01, wspace=0.01)\n",
    "    return f, axes"
   ]
  },
  {
   "cell_type": "code",
   "execution_count": null,
   "metadata": {
    "collapsed": false
   },
   "outputs": [],
   "source": [
    "f, axes = compare(*pano_images, figsize=(12, 10));\n",
    "# f.savefig('./pano0-originals.png', dpi=300, pad_inches=0, bbox_inches='tight')"
   ]
  },
  {
   "cell_type": "code",
   "execution_count": null,
   "metadata": {
    "collapsed": false
   },
   "outputs": [],
   "source": [
    "import matplotlib.pyplot as plt\n",
    "from skimage.color import rgb2gray\n",
    "from skimage.feature import (ORB, match_descriptors,\n",
    "                             plot_matches)\n",
    "\n",
    "# Initialize ORB\n",
    "orb = ORB(n_keypoints=800, fast_threshold=0.05)\n",
    "keypoints = []\n",
    "descriptors = []\n",
    "\n",
    "# Detect features\n",
    "for image in pano_images:\n",
    "    orb.detect_and_extract(rgb2gray(image))\n",
    "    keypoints.append(orb.keypoints)\n",
    "    descriptors.append(orb.descriptors)\n",
    "\n",
    "# Match features from images 0 -> 1 and 2 -> 1\n",
    "matches01 = match_descriptors(descriptors[0],\n",
    "                              descriptors[1],\n",
    "                              cross_check=True)\n",
    "matches12 = match_descriptors(descriptors[1],\n",
    "                              descriptors[2],\n",
    "                              cross_check=True)\n",
    "\n",
    "# Show raw matched features from left to center\n",
    "fig, ax = plt.subplots()\n",
    "plot_matches(ax, pano_images[0], pano_images[1],\n",
    "             keypoints[0], keypoints[1], matches01)\n",
    "ax.axis('off');\n",
    "# fig.savefig('./pano1_ORB-raw.png', dpi=500, pad_inches=0, bbox_inches='tight')"
   ]
  },
  {
   "cell_type": "code",
   "execution_count": null,
   "metadata": {
    "collapsed": false
   },
   "outputs": [],
   "source": [
    "from skimage.measure import ransac\n",
    "from skimage.transform import ProjectiveTransform\n",
    "\n",
    "# Keypoints from left (src) to middle (dst) images\n",
    "src = keypoints[0][matches01[:, 0]][:, ::-1]\n",
    "dst = keypoints[1][matches01[:, 1]][:, ::-1]\n",
    "\n",
    "model_ransac01, inliers01 = ransac(\n",
    "    (src, dst), ProjectiveTransform, min_samples=4,\n",
    "    residual_threshold=1, max_trials=300)\n",
    "\n",
    "# Keypoints from right (src) to middle (dst) images\n",
    "src = keypoints[2][matches12[:, 1]][:, ::-1]\n",
    "dst = keypoints[1][matches12[:, 0]][:, ::-1]\n",
    "\n",
    "model_ransac12, inliers12 = ransac(\n",
    "    (src, dst), ProjectiveTransform, min_samples=4,\n",
    "    residual_threshold=1, max_trials=300)\n",
    "\n",
    "# Show robust, RANSAC-matched features\n",
    "fig, ax = plt.subplots()\n",
    "plot_matches(ax, pano_images[0], pano_images[1],\n",
    "             keypoints[0], keypoints[1],\n",
    "             matches01[inliers01])\n",
    "ax.axis('off');\n",
    "# fig.savefig('./pano2_ORB-RANSAC.png', dpi=500, pad_inches=0, bbox_inches='tight')"
   ]
  },
  {
   "cell_type": "code",
   "execution_count": null,
   "metadata": {
    "collapsed": true
   },
   "outputs": [],
   "source": [
    "# All three images have the same size\n",
    "r, c = pano_images[1].shape[:2]\n",
    "\n",
    "# Note that transformations take coordinates in\n",
    "# (x, y) format, not (row, column), for literature\n",
    "# consistency\n",
    "corners = np.array([[0, 0],\n",
    "                    [0, r],\n",
    "                    [c, 0],\n",
    "                    [c, r]])\n",
    "\n",
    "# Warp image corners to their new positions\n",
    "warped_corners01 = model_ransac01(corners)\n",
    "warped_corners12 = model_ransac12(corners)\n",
    "\n",
    "# Extents of both target and warped images\n",
    "all_corners = np.vstack((warped_corners01,\n",
    "                         warped_corners12,\n",
    "                         corners))\n",
    "\n",
    "# Overall output shape is max - min\n",
    "corner_min = np.min(all_corners, axis=0)\n",
    "corner_max = np.max(all_corners, axis=0)\n",
    "output_shape = (corner_max - corner_min)\n",
    "\n",
    "# Ensure integer shape\n",
    "output_shape = np.ceil(\n",
    "    output_shape[::-1]).astype(int)"
   ]
  },
  {
   "cell_type": "code",
   "execution_count": null,
   "metadata": {
    "collapsed": true
   },
   "outputs": [],
   "source": [
    "from skimage.transform import warp, SimilarityTransform\n",
    "\n",
    "offset1 = SimilarityTransform(translation= -corner_min)\n",
    "\n",
    "# Translate pano1 into place\n",
    "pano1_warped = warp(\n",
    "    pano_images[1], offset1.inverse, order=3,\n",
    "    output_shape=output_shape, cval=-1)\n",
    "\n",
    "# Acquire the image mask for later use\n",
    "# Mask == 1 inside image, then return backgroun to 0\n",
    "pano1_mask = (pano1_warped != -1)[..., 0]\n",
    "pano1_warped[~pano1_mask] = 0"
   ]
  },
  {
   "cell_type": "code",
   "execution_count": null,
   "metadata": {
    "collapsed": true
   },
   "outputs": [],
   "source": [
    "from skimage.transform import warp, SimilarityTransform\n",
    "\n",
    "offset1 = SimilarityTransform(translation= -corner_min)\n",
    "\n",
    "# Translate pano1 into place\n",
    "pano1_warped = warp(\n",
    "    pano_images[1], offset1.inverse, order=3,\n",
    "    output_shape=output_shape, cval=-1)\n",
    "\n",
    "# Acquire the image mask for later use\n",
    "# Mask == 1 inside image, then return backgroun to 0\n",
    "pano1_mask = (pano1_warped != -1)[..., 0]\n",
    "pano1_warped[~pano1_mask] = 0"
   ]
  },
  {
   "cell_type": "code",
   "execution_count": null,
   "metadata": {
    "collapsed": true
   },
   "outputs": [],
   "source": [
    "# Warp left image\n",
    "transform01 = (model_ransac01 + offset1).inverse\n",
    "pano0_warped = warp(\n",
    "    pano_images[0], transform01, order=3,\n",
    "    output_shape=output_shape, cval=-1)\n",
    "\n",
    "# Mask == 1 inside image, then return backgroun to 0\n",
    "pano0_mask = (pano0_warped != -1)[..., 0]\n",
    "pano0_warped[~pano0_mask] = 0\n",
    "\n",
    "# Warp right image\n",
    "transform12 = (model_ransac12 + offset1).inverse\n",
    "pano2_warped = warp(\n",
    "    pano_images[2], transform12, order=3,\n",
    "    output_shape=output_shape, cval=-1)\n",
    "\n",
    "# Mask == 1 inside image, then return backgroun to 0\n",
    "pano2_mask = (pano2_warped != -1)[..., 0]\n",
    "pano1_warped[~pano1_mask] = 0"
   ]
  },
  {
   "cell_type": "code",
   "execution_count": null,
   "metadata": {
    "collapsed": false
   },
   "outputs": [],
   "source": [
    "f, ax = compare(pano0_warped, pano1_warped, pano2_warped, vertical=True)\n",
    "# f.savefig('./pano3_warped.png', dpi=500, pad_inches=0, bbox_inches='tight')"
   ]
  },
  {
   "cell_type": "code",
   "execution_count": null,
   "metadata": {
    "collapsed": true
   },
   "outputs": [],
   "source": [
    "ymax = output_shape[1] - 1\n",
    "xmax = output_shape[0] - 1\n",
    "\n",
    "# Start anywhere along the top and bottom\n",
    "mask_pts01 = [[0,    ymax // 3],\n",
    "              [xmax, ymax // 3]]\n",
    "\n",
    "# Start anywhere along the top and bottom\n",
    "mask_pts12 = [[0,    2*ymax // 3],\n",
    "              [xmax, 2*ymax // 3]]"
   ]
  },
  {
   "cell_type": "markdown",
   "metadata": {},
   "source": [
    "## Cost array and flood fill functions from appendix"
   ]
  },
  {
   "cell_type": "code",
   "execution_count": null,
   "metadata": {
    "collapsed": false
   },
   "outputs": [],
   "source": [
    "%%cython\n",
    "import cython\n",
    "import numpy as np\n",
    "cimport numpy as cnp\n",
    "\n",
    "\n",
    "# Compiler directives\n",
    "@cython.cdivision(True)\n",
    "@cython.boundscheck(False)\n",
    "@cython.nonecheck(False)\n",
    "@cython.wraparound(False)\n",
    "def flood_fill(unsigned char[:, ::1] data, tuple start_coords,\n",
    "               Py_ssize_t fill_value):\n",
    "    \"\"\"\n",
    "    Flood fill algorithm\n",
    "    \n",
    "    Parameters\n",
    "    ----------\n",
    "    data : (M, N) ndarray of uint8 type\n",
    "        Image with flood to be filled. Modified inplace.\n",
    "    start_coords : tuple\n",
    "        Length-2 tuple of ints defining (row, col) start coordinates.\n",
    "    fill_value : int\n",
    "        Value the flooded area will take after the fill.\n",
    "        \n",
    "    Returns\n",
    "    -------\n",
    "    None, ``data`` is modified inplace.\n",
    "    \"\"\"\n",
    "    cdef:\n",
    "        Py_ssize_t x, y, xsize, ysize, orig_value, ystart, xstart\n",
    "        set stack\n",
    "    \n",
    "    xsize = data.shape[0]\n",
    "    ysize = data.shape[1]\n",
    "    xstart = start_coords[0]\n",
    "    ystart = start_coords[1]\n",
    "    orig_value = data[start_coords[0], start_coords[1]]\n",
    "    \n",
    "    if fill_value == orig_value:\n",
    "        raise ValueError(\"Filling region with same value \"\n",
    "                         \"already present is unsupported. \"\n",
    "                         \"Did you already fill this region?\")\n",
    "    \n",
    "    stack = set(((start_coords[0], start_coords[1]),))\n",
    "\n",
    "    while stack:\n",
    "        x, y = stack.pop()\n",
    "\n",
    "        if data[x, y] == orig_value:\n",
    "            data[x, y] = fill_value\n",
    "            if x > 0:\n",
    "                stack.add((x - 1, y))\n",
    "            if x < (xsize - 1):\n",
    "                stack.add((x + 1, y))\n",
    "            if y > 0:\n",
    "                stack.add((x, y - 1))\n",
    "            if y < (ysize - 1):\n",
    "                stack.add((x, y + 1))"
   ]
  },
  {
   "cell_type": "code",
   "execution_count": null,
   "metadata": {
    "collapsed": false
   },
   "outputs": [],
   "source": [
    "def generate_costs(diff_image, mask, vertical=True,\n",
    "                   gradient_cutoff=2.,\n",
    "                   zero_edges=True):\n",
    "    \"\"\"\n",
    "    Ensure equal-cost paths from edges to\n",
    "    region of interest.\n",
    "\n",
    "    Parameters\n",
    "    ----------\n",
    "    diff_image : (M, N) ndarray of floats\n",
    "        Difference of two overlapping images.\n",
    "    mask : (M, N) ndarray of bools\n",
    "        Mask representing the region of interest in\n",
    "        ``diff_image``.\n",
    "    vertical : bool\n",
    "        Control if stitching line is vertical or\n",
    "        horizontal.\n",
    "    gradient_cutoff : float\n",
    "        Controls how far out of parallel lines can\n",
    "        be to edges before correction is terminated.\n",
    "        The default (2.) is good for most cases.\n",
    "    zero_edges : bool\n",
    "        If True, the edges are set to zero so the\n",
    "        seed is not bound to any specific horizontal\n",
    "        location.\n",
    "\n",
    "    Returns\n",
    "    -------\n",
    "    costs_arr : (M, N) ndarray of floats\n",
    "        Adjusted costs array, ready for use.\n",
    "    \"\"\"\n",
    "    if vertical is not True:  # run transposed\n",
    "        return generate_costs(\n",
    "            diff_image.T, mask.T, vertical=True,\n",
    "            gradient_cutoff=gradient_cutoff).T\n",
    "\n",
    "    # Start with a high-cost array of 1's\n",
    "    diff_image = rgb2gray(diff_image)\n",
    "    costs_arr = np.ones_like(diff_image)\n",
    "\n",
    "    # Obtain extent of overlap\n",
    "    row, col = mask.nonzero()\n",
    "    cmin = col.min()\n",
    "    cmax = col.max()\n",
    "\n",
    "    # Label discrete regions\n",
    "    cslice = slice(cmin, cmax + 1)\n",
    "    labels = mask[:, cslice].astype(np.uint8).copy()\n",
    "\n",
    "    # Fill top and bottom with unique labels\n",
    "    masked_pts = np.where(labels)\n",
    "    flood_fill(labels, (masked_pts[0][0], \n",
    "                        masked_pts[1][0]), 2)\n",
    "    flood_fill(labels, (0, labels.shape[0] // 2), 1)\n",
    "    flood_fill(labels, (labels.shape[0] - 1, \n",
    "                        labels.shape[1] // 2), 3)\n",
    "\n",
    "    # Find distance from edge to region\n",
    "    upper = (labels == 1).sum(axis=0)\n",
    "    lower = (labels == 3).sum(axis=0)\n",
    "\n",
    "    # Reject areas of high change\n",
    "    ugood = np.abs(\n",
    "        np.gradient(upper)) < gradient_cutoff\n",
    "    lgood = np.abs(\n",
    "        np.gradient(lower)) < gradient_cutoff\n",
    "\n",
    "    # Cost break to areas slightly farther from edge\n",
    "    costs_upper = np.ones_like(upper,\n",
    "                               dtype=np.float64)\n",
    "    costs_lower = np.ones_like(lower,\n",
    "                               dtype=np.float64)\n",
    "    costs_upper[ugood] = (\n",
    "        upper.min() / np.maximum(upper[ugood], 1))\n",
    "    costs_lower[lgood] = (\n",
    "        lower.min() / np.maximum(lower[lgood], 1))\n",
    "\n",
    "    # Expand from 1d back to 2d\n",
    "    vdis = mask.shape[0]\n",
    "    costs_upper = (\n",
    "        costs_upper[np.newaxis, :].repeat(vdis, axis=0))\n",
    "    costs_lower = (\n",
    "        costs_lower[np.newaxis, :].repeat(vdis, axis=0))\n",
    "\n",
    "    # Place these in output array\n",
    "    costs_arr[:, cslice] = costs_upper * (labels==1)\n",
    "    costs_arr[:, cslice] += costs_lower * (labels==3)\n",
    "\n",
    "    # Finally, place the difference image\n",
    "    costs_arr[mask] = np.abs(diff_image[mask])\n",
    "\n",
    "    if zero_edges is True:  # top & bottom rows = zero\n",
    "        costs_arr[0, :] = 0\n",
    "        costs_arr[-1, :] = 0\n",
    "\n",
    "    return costs_arr"
   ]
  },
  {
   "cell_type": "code",
   "execution_count": null,
   "metadata": {
    "collapsed": false
   },
   "outputs": [],
   "source": [
    "# Use the generate_costs function\n",
    "costs01 = generate_costs(pano0_warped - pano1_warped,\n",
    "                         pano0_mask & pano1_mask)\n",
    "costs12 = generate_costs(pano1_warped - pano2_warped,\n",
    "                         pano1_mask & pano2_mask)"
   ]
  },
  {
   "cell_type": "code",
   "execution_count": null,
   "metadata": {
    "collapsed": true
   },
   "outputs": [],
   "source": [
    "from skimage.graph import route_through_array\n",
    "\n",
    "# Find the MCP\n",
    "pts01, _ = route_through_array(\n",
    "    costs01, mask_pts01[0], mask_pts01[1],\n",
    "    fully_connected=True)\n",
    "\n",
    "pts01 = np.array(pts01)\n",
    "\n",
    "# Create final mask for the left image\n",
    "mask0 = np.zeros_like(pano0_warped[..., 0],\n",
    "                      dtype=np.uint8)\n",
    "mask0[pts01[:, 0], pts01[:, 1]] = 1\n",
    "flood_fill(mask0, (0, 0), 1)"
   ]
  },
  {
   "cell_type": "code",
   "execution_count": null,
   "metadata": {
    "collapsed": false
   },
   "outputs": [],
   "source": [
    "fig, ax = plt.subplots(figsize=(12, 12))\n",
    "import skimage.morphology as morph\n",
    "\n",
    "# Plot the difference image\n",
    "ax.imshow(costs01, cmap='gray', vmin=-1 * costs01.max(), vmax=costs01.max())\n",
    "\n",
    "# Overlay the minimum-cost path\n",
    "ax.plot(pts01[:, 1], pts01[:, 0])  \n",
    "\n",
    "plt.tight_layout()\n",
    "ax.axis('off');\n",
    "# fig.savefig('./pano4_mcp.png', dpi=600, bbox_inches='tight')"
   ]
  },
  {
   "cell_type": "code",
   "execution_count": null,
   "metadata": {
    "collapsed": true
   },
   "outputs": [],
   "source": [
    "# New constraint modifying cost array\n",
    "costs12[mask0 > 0] = 1\n",
    "\n",
    "pts12, _ = route_through_array(\n",
    "    costs12, mask_pts12[0], mask_pts12[1],\n",
    "    fully_connected=True)\n",
    "\n",
    "pts12 = np.array(pts12)\n",
    "\n",
    "# Final mask for right image\n",
    "mask2 = np.zeros_like(mask0, dtype=np.uint8)\n",
    "mask2[pts12[:, 0], pts12[:, 1]] = 1\n",
    "flood_fill(mask2, (mask2.shape[0] - 1,\n",
    "                   mask2.shape[1] - 1), 1)\n",
    "\n",
    "# Mask for middle image is one of exclusion\n",
    "mask1 = ~(mask0 | mask2).astype(bool)"
   ]
  },
  {
   "cell_type": "code",
   "execution_count": null,
   "metadata": {
    "collapsed": false
   },
   "outputs": [],
   "source": [
    "fig, ax = plt.subplots(figsize=(12, 12))\n",
    "import skimage.morphology as morph\n",
    "\n",
    "# Plot the difference image\n",
    "ax.imshow(costs12, cmap='gray', vmin=-1 * costs12.max(), vmax=costs12.max())\n",
    "\n",
    "# Overlay the minimum-cost path\n",
    "ax.plot(pts12[:, 1], pts12[:, 0])  \n",
    "\n",
    "plt.tight_layout()\n",
    "ax.axis('off');\n",
    "# fig.savefig('./pano4_mcp.png', dpi=600, bbox_inches='tight')"
   ]
  },
  {
   "cell_type": "code",
   "execution_count": null,
   "metadata": {
    "collapsed": true
   },
   "outputs": [],
   "source": [
    "# Convenience function for alpha blending\n",
    "def add_alpha(img, mask=None):\n",
    "    \"\"\"\n",
    "    Adds a masked alpha channel to an image.\n",
    "\n",
    "    Parameters\n",
    "    ----------\n",
    "    img : (M, N[, 3]) ndarray\n",
    "        Image data, should be rank-2 or rank-3\n",
    "        with RGB channels\n",
    "    mask : (M, N[, 3]) ndarray, optional\n",
    "        Mask to be applied. If None, the alpha channel\n",
    "        is added with full opacity assumed (1) for all\n",
    "        locations.\n",
    "    \"\"\"\n",
    "    from skimage.color import gray2rgb\n",
    "    if mask is None:\n",
    "        mask = np.ones_like(img)\n",
    "\n",
    "    if img.ndim == 2:\n",
    "        img = gray2rgb(img)\n",
    "\n",
    "    return np.dstack((img, mask))\n",
    "\n",
    "# Applying this function\n",
    "left_final = add_alpha(pano0_warped, mask0)\n",
    "middle_final = add_alpha(pano1_warped, mask1)\n",
    "right_final = add_alpha(pano2_warped, mask2)"
   ]
  },
  {
   "cell_type": "code",
   "execution_count": null,
   "metadata": {
    "collapsed": false
   },
   "outputs": [],
   "source": [
    "fig, ax = plt.subplots()\n",
    "\n",
    "# Turn off matplotlib's interpolation\n",
    "ax.imshow(left_final, interpolation='none')\n",
    "ax.imshow(middle_final, interpolation='none')\n",
    "ax.imshow(right_final, interpolation='none')\n",
    "\n",
    "ax.axis('off')\n",
    "fig.tight_layout()\n",
    "fig.show()"
   ]
  },
  {
   "cell_type": "code",
   "execution_count": null,
   "metadata": {
    "collapsed": false
   },
   "outputs": [],
   "source": [
    "from skimage.color import gray2rgb\n",
    "\n",
    "# Start with empty image\n",
    "pano_combined = np.zeros_like(pano0_warped)\n",
    "\n",
    "# Place the masked portion of each image into the array\n",
    "# masks are 2d, they need to be (M, N, 3) to match the color images\n",
    "pano_combined += pano0_warped * gray2rgb(mask0)\n",
    "pano_combined += pano1_warped * gray2rgb(mask1)\n",
    "pano_combined += pano2_warped * gray2rgb(mask2)\n",
    "\n",
    "# Save the output - precision loss warning is expected\n",
    "# moving from floating point -> uint8\n",
    "fig, ax = plt.subplots()\n",
    "ax.imshow(pano_combined)\n",
    "ax.axis('off');\n",
    "plt.show()\n",
    "# io.imsave('./pano5_final.png', pano_combined)"
   ]
  },
  {
   "cell_type": "code",
   "execution_count": null,
   "metadata": {
    "collapsed": true
   },
   "outputs": [],
   "source": []
  }
 ],
 "metadata": {
  "kernelspec": {
   "display_name": "Python 2",
   "language": "python",
   "name": "python2"
  },
  "language_info": {
   "codemirror_mode": {
    "name": "ipython",
    "version": 2
   },
   "file_extension": ".py",
   "mimetype": "text/x-python",
   "name": "python",
   "nbconvert_exporter": "python",
   "pygments_lexer": "ipython2",
   "version": "2.7.12"
  }
 },
 "nbformat": 4,
 "nbformat_minor": 0
}
